{
 "cells": [
  {
   "cell_type": "code",
   "execution_count": 5,
   "metadata": {},
   "outputs": [
    {
     "name": "stdout",
     "output_type": "stream",
     "text": [
      "Cross Button Failed\n",
      "Unable to find CSRF Token Message: javascript error: Cannot read properties of null (reading 'getAttribute')\n",
      "  (Session info: chrome=119.0.6045.159)\n",
      "Stacktrace:\n",
      "#0 0x55c9db1eb5e3 <unknown>\n",
      "#1 0x55c9daeae0b7 <unknown>\n",
      "#2 0x55c9daeb42b5 <unknown>\n",
      "#3 0x55c9daeb69b1 <unknown>\n",
      "#4 0x55c9daf3f71f <unknown>\n",
      "#5 0x55c9daf22ef2 <unknown>\n",
      "#6 0x55c9daf3eb3d <unknown>\n",
      "#7 0x55c9daf22cc3 <unknown>\n",
      "#8 0x55c9daeee0e4 <unknown>\n",
      "#9 0x55c9daeef0ae <unknown>\n",
      "#10 0x55c9db1b1ce1 <unknown>\n",
      "#11 0x55c9db1b5b7e <unknown>\n",
      "#12 0x55c9db19f4b5 <unknown>\n",
      "#13 0x55c9db1b67d6 <unknown>\n",
      "#14 0x55c9db182dbf <unknown>\n",
      "#15 0x55c9db1d9748 <unknown>\n",
      "#16 0x55c9db1d9917 <unknown>\n",
      "#17 0x55c9db1ea773 <unknown>\n",
      "#18 0x7ff6ef9d7609 start_thread\n",
      "\n",
      "Unable to find csrf:\n",
      "Mozilla/5.0 (X11; Linux x86_64) AppleWebKit/537.36 (KHTML, like Gecko) Chrome/119.0.0.0 Safari/537.36\n",
      "[{'domain': '10.24.0.157', 'httpOnly': False, 'name': 'user', 'path': '/', 'sameSite': 'Lax', 'secure': False, 'value': 'ca.2603474'}, {'domain': '10.24.0.157', 'httpOnly': False, 'name': 'sessionId', 'path': '/', 'sameSite': 'Lax', 'secure': False, 'value': 'ca2603474-MotherHubYKB-1708595155017-58627'}]\n"
     ]
    }
   ],
   "source": [
    "from selenium import webdriver\n",
    "from selenium.webdriver.common.keys import Keys\n",
    "from selenium.webdriver.common.by import By\n",
    "from selenium.webdriver.chrome.options import Options\n",
    "from selenium.webdriver.support.ui import Select\n",
    "from selenium.webdriver.support.ui import WebDriverWait\n",
    "from selenium.webdriver.common.by import By\n",
    "from selenium.webdriver.support import expected_conditions as EC3\n",
    "from selenium.webdriver.common.action_chains import ActionChains\n",
    "from concurrent.futures import ThreadPoolExecutor\n",
    "from requests.adapters import HTTPAdapter\n",
    "from requests_html import HTMLSession\n",
    "import time\n",
    "import json\n",
    "import os\n",
    "\n",
    "op = webdriver.ChromeOptions()\n",
    "# op.add_argument('--headless=new')\n",
    "prefs = {\n",
    "    'profile.default_content_settings.popups': 0,\n",
    "    'download.default_directory': r\"/home/administrator/cbs_bag_hold/data\",\n",
    "    'directory_upgrade': True\n",
    "}\n",
    "op.add_experimental_option('prefs', prefs)\n",
    "driver = webdriver.Chrome(options=op)\n",
    "\n",
    "session = HTMLSession()\n",
    "\n",
    "def login_flo():\n",
    "    driver.get(\"http://10.24.0.157/\")\n",
    "    time.sleep(5)\n",
    "    username = driver.find_element(By.XPATH, \"/html/body/div[2]/div[2]/div/div/form/div/div[4]/input[1]\")\n",
    "    username.send_keys(\"ca.2603474\")\n",
    "    password = driver.find_element(By.XPATH, \"/html/body/div[2]/div[2]/div/div/form/div/div[4]/input[2]\")\n",
    "    password.send_keys(\"Pkkumar@1234\")\n",
    "    time.sleep(2)\n",
    "    try:\n",
    "        cross = driver.find_element(By.XPATH, \"/html/body/div[4]/div/button\")\n",
    "        cross.click()\n",
    "    except:\n",
    "        print(\"Cross Button Failed\")\n",
    "    time.sleep(1)\n",
    "    submit = driver.find_element(By.XPATH, \"/html/body/div[2]/div[2]/div/div/form/div/div[4]/div[4]/button/span\")\n",
    "    submit.click()\n",
    "    time.sleep(3)\n",
    "\n",
    "login_flo()\n",
    "session_cookie = driver.get_cookies()\n",
    "\n",
    "try:\n",
    "    csrf_token = driver.execute_script(\"return document.querySelector('meta[name=csrf-token]').getAttribute('content');\")\n",
    "except Exception as e:\n",
    "    print(f\"Unable to find CSRF Token\")\n",
    "\n",
    "try:\n",
    "    if csrf_token:\n",
    "        session.headers.update({\"csrf-token\": csrf_token})\n",
    "        print(csrf_token)\n",
    "    else:\n",
    "        print(\"CSRF Token not found in page\")\n",
    "except Exception as e:\n",
    "    print(F\"Unable to find csrf:\")\n",
    "\n",
    "selenium_user_agent = driver.execute_script(\"return navigator.userAgent;\")\n",
    "print(selenium_user_agent)\n",
    "session.headers.update({\"user-agent\": selenium_user_agent})\n",
    "for cookie in driver.get_cookies():\n",
    "    session.cookies.set(cookie['name'], cookie['value'], domain=cookie['domain'])\n",
    "  \n",
    "print(session_cookie)"
   ]
  },
  {
   "cell_type": "code",
   "execution_count": 6,
   "metadata": {},
   "outputs": [
    {
     "name": "stdout",
     "output_type": "stream",
     "text": [
      "<Response [405]>\n"
     ]
    }
   ],
   "source": [
    "def selectFacility():\n",
    "    url = \"http://10.24.0.157/controlledFeatures?hubId=699\"\n",
    "    response = session.post(url)\n",
    "    print(response)\n",
    "\n",
    "\n",
    "selectFacility()"
   ]
  },
  {
   "cell_type": "code",
   "execution_count": 7,
   "metadata": {},
   "outputs": [],
   "source": [
    "def semiLargeTag(shipment):\n",
    "    url = f\"http://10.24.0.157/hub/699/shipment/{shipment}/semi-large-tag\"\n",
    "    data = {\"is_semi_large\":'true'}\n",
    "    response = session.put(url , json=data)\n",
    "    print(response)\n",
    "    print(response.text)\n",
    "    url2 = f\"http://10.24.0.157/v1/hub/699/staging/suggest/{shipment}\"\n",
    "    data2 = {\"hubId\":699,\"itemType\":\"SHIPMENT\"}\n",
    "    response2 = session.post(url2 , json=data2)\n",
    "    print(response2)\n",
    "    print(response2.text)\n",
    "    response_data = json.loads(response.text)\n",
    "    response_data2 = json.loads(response2.text)\n",
    "    destination = response_data['data']['destination']\n",
    "    shipment_id = response_data['data']['shipment_id']\n",
    "    coc = response_data['data']['destination_coc']\n",
    "    realGrid = response_data2['data']['stagingAreaName']\n",
    "\n",
    "    prn = f\"\"\"\u0010CT~~CD,~CC^~CT~^XA~TA000~JSN^LT0^MNW^MTD^PON^PMN^LH0,0^JMA^PR5,5~SD30^JUS^LRN^CI27^PA0,1,1,0^XZ^XA^MMT^PW446^LL264^LS0^\n",
    "    ^FO25,40^A0N,29,29^FD{shipment_id}^FS \n",
    "    ^FO25,90^A0N,50,50^FD{coc}^FS \n",
    "    ^FO25,160^A0N,29,29^FDMotherHub_YKB^FS \n",
    "    ^FO25,210^A0N,29,29^FD{destination}^FS \n",
    "    ^FO230,60^A0N,180,180^FD{realGrid}^FS^PQ1,0,1,Y^XZ\n",
    "    \"\"\"\n",
    "\n",
    "    with open(\"a.prn\" , 'w') as f:\n",
    "        f.write(prn)\n",
    "\n",
    "    os.system(\"lp a.prn\")\n",
    "\n",
    "            \n",
    "    return print(prn)\n"
   ]
  },
  {
   "cell_type": "code",
   "execution_count": 8,
   "metadata": {},
   "outputs": [
    {
     "name": "stdout",
     "output_type": "stream",
     "text": [
      "<Response [200]>\n",
      "{\"status\":400,\"message\":\"Unable to update shipment details\",\"data\":null}\n",
      "<Response [200]>\n",
      "{\"status\":400,\"message\":\"null value in entry: LAYOUT_ID=null\",\"data\":null}\n"
     ]
    },
    {
     "ename": "TypeError",
     "evalue": "'NoneType' object is not subscriptable",
     "output_type": "error",
     "traceback": [
      "\u001b[0;31m---------------------------------------------------------------------------\u001b[0m",
      "\u001b[0;31mTypeError\u001b[0m                                 Traceback (most recent call last)",
      "\u001b[1;32m/home/flipkart/SL-Automation/sl_print.ipynb Cell 4\u001b[0m line \u001b[0;36m6\n\u001b[1;32m      <a href='vscode-notebook-cell:/home/flipkart/SL-Automation/sl_print.ipynb#W3sZmlsZQ%3D%3D?line=3'>4</a>\u001b[0m \u001b[39mif\u001b[39;00m shipment_id\u001b[39m.\u001b[39mlower() \u001b[39m==\u001b[39m \u001b[39m\"\u001b[39m\u001b[39mquit\u001b[39m\u001b[39m\"\u001b[39m:\n\u001b[1;32m      <a href='vscode-notebook-cell:/home/flipkart/SL-Automation/sl_print.ipynb#W3sZmlsZQ%3D%3D?line=4'>5</a>\u001b[0m     \u001b[39mbreak\u001b[39;00m\n\u001b[0;32m----> <a href='vscode-notebook-cell:/home/flipkart/SL-Automation/sl_print.ipynb#W3sZmlsZQ%3D%3D?line=5'>6</a>\u001b[0m semiLargeTag(shipment_id)\n",
      "\u001b[1;32m/home/flipkart/SL-Automation/sl_print.ipynb Cell 4\u001b[0m line \u001b[0;36m1\n\u001b[1;32m     <a href='vscode-notebook-cell:/home/flipkart/SL-Automation/sl_print.ipynb#W3sZmlsZQ%3D%3D?line=11'>12</a>\u001b[0m response_data \u001b[39m=\u001b[39m json\u001b[39m.\u001b[39mloads(response\u001b[39m.\u001b[39mtext)\n\u001b[1;32m     <a href='vscode-notebook-cell:/home/flipkart/SL-Automation/sl_print.ipynb#W3sZmlsZQ%3D%3D?line=12'>13</a>\u001b[0m response_data2 \u001b[39m=\u001b[39m json\u001b[39m.\u001b[39mloads(response2\u001b[39m.\u001b[39mtext)\n\u001b[0;32m---> <a href='vscode-notebook-cell:/home/flipkart/SL-Automation/sl_print.ipynb#W3sZmlsZQ%3D%3D?line=13'>14</a>\u001b[0m destination \u001b[39m=\u001b[39m response_data[\u001b[39m'\u001b[39;49m\u001b[39mdata\u001b[39;49m\u001b[39m'\u001b[39;49m][\u001b[39m'\u001b[39;49m\u001b[39mdestination\u001b[39;49m\u001b[39m'\u001b[39;49m]\n\u001b[1;32m     <a href='vscode-notebook-cell:/home/flipkart/SL-Automation/sl_print.ipynb#W3sZmlsZQ%3D%3D?line=14'>15</a>\u001b[0m shipment_id \u001b[39m=\u001b[39m response_data[\u001b[39m'\u001b[39m\u001b[39mdata\u001b[39m\u001b[39m'\u001b[39m][\u001b[39m'\u001b[39m\u001b[39mshipment_id\u001b[39m\u001b[39m'\u001b[39m]\n\u001b[1;32m     <a href='vscode-notebook-cell:/home/flipkart/SL-Automation/sl_print.ipynb#W3sZmlsZQ%3D%3D?line=15'>16</a>\u001b[0m coc \u001b[39m=\u001b[39m response_data[\u001b[39m'\u001b[39m\u001b[39mdata\u001b[39m\u001b[39m'\u001b[39m][\u001b[39m'\u001b[39m\u001b[39mdestination_coc\u001b[39m\u001b[39m'\u001b[39m]\n",
      "\u001b[0;31mTypeError\u001b[0m: 'NoneType' object is not subscriptable"
     ]
    }
   ],
   "source": [
    "if __name__ == \"__main__\":\n",
    "    while True:\n",
    "        shipment_id = input(\"Enter shipment ID (or type 'quit' to exit): \")\n",
    "        if shipment_id.lower() == \"quit\":\n",
    "            break\n",
    "        semiLargeTag(shipment_id)"
   ]
  },
  {
   "cell_type": "code",
   "execution_count": null,
   "metadata": {},
   "outputs": [],
   "source": []
  }
 ],
 "metadata": {
  "kernelspec": {
   "display_name": "Python 3",
   "language": "python",
   "name": "python3"
  },
  "language_info": {
   "codemirror_mode": {
    "name": "ipython",
    "version": 3
   },
   "file_extension": ".py",
   "mimetype": "text/x-python",
   "name": "python",
   "nbconvert_exporter": "python",
   "pygments_lexer": "ipython3",
   "version": "3.8.10"
  }
 },
 "nbformat": 4,
 "nbformat_minor": 2
}
